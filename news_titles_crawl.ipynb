{
 "cells": [
  {
   "cell_type": "code",
   "execution_count": 99,
   "metadata": {
    "scrolled": true
   },
   "outputs": [
    {
     "name": "stdout",
     "output_type": "stream",
     "text": [
      "ECHR rules obligatory vaccination may be necessary\n",
      "COVID: 'I really struggled psychologically'\n",
      "Are vaccine passports new?\n",
      "Coronavirus: Germany plans talks with Russia on buying Sputnik V COVID vaccine\n",
      "AstraZeneca: EMA says blood clots 'very rare' side effect\n",
      "Orban is politicizing Hungary's vaccine rollout\n",
      "Coronavirus: Angela Merkel backs short national lockdown\n",
      "Travel rules ground Vietnamese expats in Germany\n",
      "Germany keeps up deportations despite COVID\n",
      "AstraZeneca: UK to offer alternatives to under 30s\n",
      "Human rights under attack amid COVID pandemic: report\n",
      "Coronavirus digest: India reports record number of daily cases\n"
     ]
    }
   ],
   "source": [
    "from selenium import webdriver\n",
    "from selenium.webdriver.common.keys import Keys\n",
    "from selenium.webdriver.support.ui import WebDriverWait\n",
    "from selenium.webdriver.support import expected_conditions as EC\n",
    "from selenium.webdriver.common.by import By\n",
    "import time\n",
    "\n",
    "# options\n",
    "options = webdriver.ChromeOptions()\n",
    "options.add_argument(\"User-Agent:Mozilla/5.0 (Windows NT 10.0; Win64; x64) AppleWebKit/537.36 (KHTML, like Gecko) Chrome/89.0.4389.114 Safari/537.36\")\n",
    "\n",
    "# call the chromedriver from local \n",
    "chromedriver = 'C:\\dev_project\\python_crawling\\chromedriver.exe'\n",
    "driver = webdriver.Chrome(chromedriver)\n",
    "\n",
    "# save the address in url and open a window with url\n",
    "url = \"https://www.dw.com/en/top-stories/coronavirus/s-32798\"\n",
    "driver.get(url)\n",
    "\n",
    "\n",
    "# we use the news website \"deutsche Welle\"\n",
    "# The news tile is corona news\n",
    "# We will print the all top news\n",
    "\n",
    "try :    \n",
    "    target = \"#html_body > #bodyMover > #outerFrame > #innerFrame > #bodyContent > .col2.left\"\n",
    "    \n",
    "    # chose all news and the titles, if not exist, will be catched and thrown into exception\n",
    "    all_titles = WebDriverWait(driver, 10).until(EC.presence_of_element_located((By.CSS_SELECTOR , target)))\n",
    "    \n",
    "    # find all titles with \"find_elements\"\n",
    "    titles = all_titles.find_elements(By.CSS_SELECTOR,\".col2.basicTeaser h2\")\n",
    "    \n",
    "    # print all news titles\n",
    "    for title in titles:\n",
    "        print(title.text)\n",
    "    \n",
    "except:\n",
    "    print(\"time out! not found!\")\n",
    "finally:\n",
    "    driver.quit()\n",
    "\n"
   ]
  },
  {
   "cell_type": "markdown",
   "metadata": {},
   "source": [
    "7.5. Locate elements By¶(https://selenium-python.readthedocs.io/api.html#locate-elements-by) \n",
    "These are the attributes which can be used to locate elements. See the Locating Elements chapter for example usages.\n",
    "\n",
    "The By implementation.\n",
    "\n",
    "class selenium.webdriver.common.by.By\n",
    "Bases: object\n",
    "\n",
    "Set of supported locator strategies.\n",
    "\n",
    "CLASS_NAME = 'class name'\n",
    "CSS_SELECTOR = 'css selector'\n",
    "ID = 'id'\n",
    "LINK_TEXT = 'link text'\n",
    "NAME = 'name'\n",
    "PARTIAL_LINK_TEXT = 'partial link text'\n",
    "TAG_NAME = 'tag name'\n",
    "XPATH = 'xpath'"
   ]
  }
 ],
 "metadata": {
  "kernelspec": {
   "display_name": "Python 3",
   "language": "python",
   "name": "python3"
  },
  "language_info": {
   "codemirror_mode": {
    "name": "ipython",
    "version": 3
   },
   "file_extension": ".py",
   "mimetype": "text/x-python",
   "name": "python",
   "nbconvert_exporter": "python",
   "pygments_lexer": "ipython3",
   "version": "3.8.5"
  }
 },
 "nbformat": 4,
 "nbformat_minor": 4
}
